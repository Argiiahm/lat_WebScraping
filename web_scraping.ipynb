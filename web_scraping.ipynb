{
 "cells": [
  {
   "cell_type": "code",
   "execution_count": 9,
   "id": "49a6f8aa",
   "metadata": {},
   "outputs": [
    {
     "name": "stdout",
     "output_type": "stream",
     "text": [
      "                                              Quetes             Author\n",
      "0  “The world as we have created it is a process ...    Albert Einstein\n",
      "1  “It is our choices, Harry, that show what we t...       J.K. Rowling\n",
      "2  “There are only two ways to live your life. On...    Albert Einstein\n",
      "3  “The person, be it gentleman or lady, who has ...        Jane Austen\n",
      "4  “Imperfection is beauty, madness is genius and...     Marilyn Monroe\n",
      "5  “Try not to become a man of success. Rather be...    Albert Einstein\n",
      "6  “It is better to be hated for what you are tha...         André Gide\n",
      "7  “I have not failed. I've just found 10,000 way...   Thomas A. Edison\n",
      "8  “A woman is like a tea bag; you never know how...  Eleanor Roosevelt\n",
      "9  “A day without sunshine is like, you know, nig...       Steve Martin\n"
     ]
    }
   ],
   "source": [
    "import requests as rs\n",
    "from bs4 import BeautifulSoup\n",
    "import pandas as pd\n",
    "\n",
    "url = \"https://quotes.toscrape.com/\"\n",
    "res = rs.get(url)\n",
    "\n",
    "soup = BeautifulSoup(res.text, \"html.parser\")\n",
    "\n",
    "quetes = [q.text for q in soup.find_all(\"span\", class_=\"text\")]\n",
    "author = [a.text for a in soup.find_all(\"small\", class_=\"author\")]\n",
    "\n",
    "df = pd.DataFrame({\n",
    "    'Quetes': quetes,\n",
    "    'Author': author\n",
    "})\n",
    "\n",
    "# df.to_csv('quetes.csv', index=False)\n",
    "print(df)\n",
    "\n"
   ]
  },
  {
   "cell_type": "code",
   "execution_count": 22,
   "id": "fad1e6f6",
   "metadata": {},
   "outputs": [
    {
     "name": "stdout",
     "output_type": "stream",
     "text": [
      "                                        Judul Berita\n",
      "0  BGN Balikin Rp 70 T, NasDem Khawatir Anggaran ...\n",
      "1  Ribuan Massa Pro-Palestina Bentrok dengan Poli...\n",
      "2  Hamas Rilis Video Eksekusi Mati 'Geng' Penjaha...\n",
      "3  Kepala SMA di Banten Tampar Murid Merokok, KPA...\n",
      "4  Biang Kerok Panas Menyengat di Pulau Jawa hing...\n",
      "5  Pramono Konsultasi ke KPK Mau Manfaatkan Lahan...\n"
     ]
    }
   ],
   "source": [
    "import requests as rs\n",
    "from bs4 import BeautifulSoup\n",
    "import pandas as pd\n",
    "\n",
    "url = \"https://news.detik.com\"\n",
    "res = rs.get(url)\n",
    "\n",
    "soup = BeautifulSoup(res.text, \"html.parser\")\n",
    "title =  [t.get_text().replace(\"\\n\",\"\").strip() for t in soup.find_all(\"h2\",\"media__title\")]\n",
    "\n",
    "df = pd.DataFrame({\n",
    "        \"Judul Berita\": title,\n",
    "    })\n",
    "\n",
    "print(df)\n"
   ]
  },
  {
   "cell_type": "code",
   "execution_count": 11,
   "id": "6ce51be6",
   "metadata": {},
   "outputs": [
    {
     "name": "stdout",
     "output_type": "stream",
     "text": [
      "                                          Judul Berita                                               link\n",
      "0                                                       https://news.detik.com/berita/d-8161180/bgn-ba...\n",
      "1    BGN Balikin Rp 70 T, NasDem Khawatir Anggaran ...  https://news.detik.com/berita/d-8161180/bgn-ba...\n",
      "2                                                       https://news.detik.com/internasional/d-8161181...\n",
      "3    Ribuan Massa Pro-Palestina Bentrok dengan Poli...  https://news.detik.com/internasional/d-8161181...\n",
      "4                                                       https://news.detik.com/internasional/d-8161111...\n",
      "..                                                 ...                                                ...\n",
      "114  Kabar Terkini Polemik Kepsek di Banten Tampar ...  https://news.detik.com/berita/d-8162884/kabar-...\n",
      "115  Uji Coba RDF Rorotan Masih Berlangsung, Bakal ...  https://news.detik.com/berita/d-8162983/uji-co...\n",
      "116  Sejumlah Orang Demo di Rumah RK Buntut Ucapan ...  https://news.detik.com/berita/d-8160661/sejuml...\n",
      "117  Bapak J Ketua Dewan Pembina, Ini Daftar Lengka...  https://news.detik.com/berita/d-8154214/bapak-...\n",
      "118  Andra Cabut Status Nonaktif Kepala SMA di Bant...  https://news.detik.com/berita/d-8162138/andra-...\n",
      "\n",
      "[119 rows x 2 columns]\n"
     ]
    }
   ],
   "source": [
    "# Cara Ke Satu Ambil Data Dari Detik.com\n",
    "\n",
    "import requests as rs\n",
    "from bs4 import BeautifulSoup\n",
    "import pandas as pd\n",
    "\n",
    "url = \"https://news.detik.com\"\n",
    "res = rs.get(url)\n",
    "\n",
    "soup = BeautifulSoup(res.text, \"html.parser\")\n",
    "berita = soup.find_all(\"a\", class_=\"media__link\")\n",
    "\n",
    "title = [b.get_text(strip=True) for b in berita]\n",
    "link = [b.get(\"href\") for b in berita]\n",
    "\n",
    "df = pd.DataFrame({\n",
    "        \"Judul Berita\": title,\n",
    "        \"link\": link\n",
    "    })\n",
    "\n",
    "print(df)\n"
   ]
  },
  {
   "cell_type": "code",
   "execution_count": 13,
   "id": "b968a24f",
   "metadata": {},
   "outputs": [
    {
     "name": "stdout",
     "output_type": "stream",
     "text": [
      "                                         Judul Berita                                               link\n",
      "0   BGN Balikin Rp 70 T, NasDem Khawatir Anggaran ...  https://news.detik.com/berita/d-8161180/bgn-ba...\n",
      "1   Ribuan Massa Pro-Palestina Bentrok dengan Poli...  https://news.detik.com/internasional/d-8161181...\n",
      "2   Hamas Rilis Video Eksekusi Mati 'Geng' Penjaha...  https://news.detik.com/internasional/d-8161111...\n",
      "3   Kepala SMA di Banten Tampar Murid Merokok, KPA...  https://news.detik.com/berita/d-8161166/kepala...\n",
      "4   Biang Kerok Panas Menyengat di Pulau Jawa hing...  https://news.detik.com/berita/d-8161151/biang-...\n",
      "..                                                ...                                                ...\n",
      "60  Kabar Terkini Polemik Kepsek di Banten Tampar ...  https://news.detik.com/berita/d-8162884/kabar-...\n",
      "61  Uji Coba RDF Rorotan Masih Berlangsung, Bakal ...  https://news.detik.com/berita/d-8162983/uji-co...\n",
      "62  Sejumlah Orang Demo di Rumah RK Buntut Ucapan ...  https://news.detik.com/berita/d-8160661/sejuml...\n",
      "63  Bapak J Ketua Dewan Pembina, Ini Daftar Lengka...  https://news.detik.com/berita/d-8154214/bapak-...\n",
      "64  Andra Cabut Status Nonaktif Kepala SMA di Bant...  https://news.detik.com/berita/d-8162138/andra-...\n",
      "\n",
      "[65 rows x 2 columns]\n"
     ]
    }
   ],
   "source": [
    "# Cara Ke Dua Ambil Data Dari Detik.com\n",
    "\n",
    "import requests as rs\n",
    "from bs4 import BeautifulSoup\n",
    "import pandas as pd\n",
    "\n",
    "# pd.set_option('display.width', 1000)\n",
    "\n",
    "url = \"https://news.detik.com\"\n",
    "res = rs.get(url)\n",
    "\n",
    "soup = BeautifulSoup(res.text, \"html.parser\")\n",
    "berita = soup.find_all(\"a\", class_=\"media__link\")\n",
    "\n",
    "title = []\n",
    "link = []\n",
    "\n",
    "for b in berita:\n",
    "    t = b.get_text(strip=True)\n",
    "    l = b.get(\"href\")\n",
    "    if t and l:\n",
    "        title.append(t)\n",
    "        link.append(l)\n",
    "\n",
    "df = pd.DataFrame({\n",
    "        \"Judul Berita\": title,\n",
    "        \"link\": link\n",
    "    })\n",
    "\n",
    "\n",
    "print(df)\n"
   ]
  },
  {
   "cell_type": "code",
   "execution_count": 20,
   "id": "2e98aa16",
   "metadata": {},
   "outputs": [
    {
     "name": "stdout",
     "output_type": "stream",
     "text": [
      "                                       Judul Article       Waktu Upload\n",
      "0  PSSI Pecat Patrick Kluivert, Erick Thohir: Ter...  16 Okt 2025 12:25\n",
      "1  Info BMKG: Ini Daftar Daftar Wilayah Indonesia...  16 Okt 2025 11:25\n",
      "2  Statistik Buruk Patrick Kluivert di Timnas Ind...  16 Okt 2025 12:37\n",
      "3  FAM Resmi Ajukan Banding ke FIFA Terkait Skand...  16 Okt 2025 10:45\n",
      "4  3 Pemain Timnas Indonesia yang Tampil Oke dan ...  16 Okt 2025 10:30\n",
      "5  Deretan Pelatih Awet di Panggung Kualifikasi P...  16 Okt 2025 10:15\n",
      "6  4 Pelatih di BRI Super League yang Bisa Gantik...  16 Okt 2025 10:00\n"
     ]
    }
   ],
   "source": [
    "import requests as rs\n",
    "from bs4 import BeautifulSoup\n",
    "import pandas as pd\n",
    "\n",
    "\n",
    "url = \"https://www.bola.com/\"\n",
    "res = rs.get(url)\n",
    "\n",
    "soup = BeautifulSoup(res.text, \"html.parser\")\n",
    "\n",
    "title = [q.text for q in soup.find_all(\"div\", class_=\"headline--bottom-slider__item_title\")]\n",
    "time = [t.text for t in soup.find_all(\"time\", class_=\"headline--bottom-slider__item_timestamp\")]\n",
    "\n",
    "\n",
    "df = pd.DataFrame({\n",
    "    'Judul Article': title,\n",
    "    'Waktu Upload': time\n",
    "})\n",
    "\n",
    "print(df)\n",
    "\n"
   ]
  }
 ],
 "metadata": {
  "kernelspec": {
   "display_name": "Python 3",
   "language": "python",
   "name": "python3"
  },
  "language_info": {
   "codemirror_mode": {
    "name": "ipython",
    "version": 3
   },
   "file_extension": ".py",
   "mimetype": "text/x-python",
   "name": "python",
   "nbconvert_exporter": "python",
   "pygments_lexer": "ipython3",
   "version": "3.13.5"
  }
 },
 "nbformat": 4,
 "nbformat_minor": 5
}
